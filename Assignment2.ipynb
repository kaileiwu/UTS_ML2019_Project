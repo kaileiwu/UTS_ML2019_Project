{
  "nbformat": 4,
  "nbformat_minor": 0,
  "metadata": {
    "colab": {
      "name": "Assignment2.ipynb",
      "provenance": [],
      "collapsed_sections": []
    },
    "kernelspec": {
      "name": "python3",
      "display_name": "Python 3"
    }
  },
  "cells": [
    {
      "cell_type": "markdown",
      "metadata": {
        "id": "mNdVNMQNfPTZ",
        "colab_type": "text"
      },
      "source": [
        "# Assignment 2: Practical Machine Learning Project\n",
        "\n",
        "\n",
        "\n",
        "31005 Machine Learning Spring 2019, Assignment 2\n",
        "\n",
        "\n",
        "\n",
        "---\n",
        "\n",
        "\n",
        "\n",
        "> Group number: Pit Wegner, Xianfeng Zhuge, Kailei Wu\n",
        "\n",
        "\n"
      ]
    },
    {
      "cell_type": "markdown",
      "metadata": {
        "id": "xHZc_T3yf-wX",
        "colab_type": "text"
      },
      "source": [
        "## Introduction"
      ]
    },
    {
      "cell_type": "markdown",
      "metadata": {
        "id": "PQEvsEuOg4Zr",
        "colab_type": "text"
      },
      "source": [
        ""
      ]
    },
    {
      "cell_type": "markdown",
      "metadata": {
        "id": "bFX72tlphNQ9",
        "colab_type": "text"
      },
      "source": [
        "## Exploration"
      ]
    },
    {
      "cell_type": "markdown",
      "metadata": {
        "id": "vI6pLj7bhSGO",
        "colab_type": "text"
      },
      "source": [
        ""
      ]
    },
    {
      "cell_type": "markdown",
      "metadata": {
        "id": "Rxdg99fYhS07",
        "colab_type": "text"
      },
      "source": [
        "## Methodology "
      ]
    },
    {
      "cell_type": "markdown",
      "metadata": {
        "id": "oRKcINedhTGl",
        "colab_type": "text"
      },
      "source": [
        "ddd"
      ]
    },
    {
      "cell_type": "markdown",
      "metadata": {
        "id": "tONIZV0ohTS3",
        "colab_type": "text"
      },
      "source": [
        "## Evaluation"
      ]
    },
    {
      "cell_type": "markdown",
      "metadata": {
        "id": "F_tOUGIxhTaL",
        "colab_type": "text"
      },
      "source": [
        "ddd"
      ]
    },
    {
      "cell_type": "markdown",
      "metadata": {
        "id": "7_135wN0hTe8",
        "colab_type": "text"
      },
      "source": [
        "## Conclusion"
      ]
    },
    {
      "cell_type": "markdown",
      "metadata": {
        "id": "EJHpJvsvhTli",
        "colab_type": "text"
      },
      "source": [
        ""
      ]
    },
    {
      "cell_type": "markdown",
      "metadata": {
        "id": "jtcC0IahmoHv",
        "colab_type": "text"
      },
      "source": [
        "## Ethical"
      ]
    },
    {
      "cell_type": "markdown",
      "metadata": {
        "id": "6OqpS59Emva8",
        "colab_type": "text"
      },
      "source": [
        ""
      ]
    }
  ]
}