{
  "nbformat": 4,
  "nbformat_minor": 0,
  "metadata": {
    "colab": {
      "name": "Assignment2.ipynb",
      "provenance": [],
      "collapsed_sections": []
    },
    "kernelspec": {
      "display_name": "Python 3",
      "language": "python",
      "name": "python3"
    },
    "language_info": {
      "codemirror_mode": {
        "name": "ipython",
        "version": 3
      },
      "file_extension": ".py",
      "mimetype": "text/x-python",
      "name": "python",
      "nbconvert_exporter": "python",
      "pygments_lexer": "ipython3",
      "version": "3.7.3"
    }
  },
  "cells": [
    {
      "cell_type": "markdown",
      "metadata": {
        "colab_type": "text",
        "id": "mNdVNMQNfPTZ"
      },
      "source": [
        "# Assignment 2: Practical Machine Learning Project Report\n",
        "\n",
        "\n",
        "\n",
        "31005/32513 Machine Learning Spring 2019, Assignment 2\n",
        "\n",
        "\n",
        "\n",
        "---\n",
        "\n",
        "\n",
        "\n",
        "> Group members: Pit Wegner, Xianfeng Zhuge, Kailei Wu\n",
        "\n",
        "\n"
      ]
    },
    {
      "cell_type": "markdown",
      "metadata": {
        "colab_type": "text",
        "id": "xHZc_T3yf-wX"
      },
      "source": [
        "## Introduction"
      ]
    },
    {
      "cell_type": "markdown",
      "metadata": {
        "colab_type": "text",
        "id": "PQEvsEuOg4Zr"
      },
      "source": [
        "Nowadays, more and more activity recognition-based machine learning has been studied, especially in human physical activity recognition. The progress in this direction is worked surprisingly, the model could recognize some sample human exercise such as walking, running or standing, Count steps and detect a general overview activity. However, it is hard to apply in a specific domain such as healthcare. There are mainly for two reasons: the activities are more complex and harder to analyze because of the lack of public data that can be used within the research. In this report, we created an ML model to precipitate the \"Open Lab Nursing Activity Recognition Challenge\" that asking to recognize the activities within the nursing area (Lago et al., 2019). \n",
        "\n",
        "For recent years, there are many activity recognitions in healthy care application are focusing on the patients rather than nurses. In another hand,  the recognition of nurses activities can be also helpful in the nursing domain such as automatic record creation and standardization operation supervision. Until now, there is still a gap for the ML model to recognize the nursing-related activities due to the problem that we discussed before, the applications based on this model would be wildly used in the nursing area if the model could have an exceptional accuracy in prediction."
      ]
    },
    {
      "cell_type": "markdown",
      "metadata": {
        "colab_type": "text",
        "id": "bFX72tlphNQ9"
      },
      "source": [
        "## Exploration"
      ]
    },
    {
      "cell_type": "markdown",
      "metadata": {
        "colab_type": "text",
        "id": "vI6pLj7bhSGO"
      },
      "source": [
        ""
      ]
    },
    {
      "cell_type": "markdown",
      "metadata": {
        "colab_type": "text",
        "id": "Rxdg99fYhS07"
      },
      "source": [
        "## Methodology "
      ]
    },
    {
      "cell_type": "markdown",
      "metadata": {
        "colab_type": "text",
        "id": "oRKcINedhTGl"
      },
      "source": [
        ""
      ]
    },
    {
      "cell_type": "markdown",
      "metadata": {
        "colab_type": "text",
        "id": "tONIZV0ohTS3"
      },
      "source": [
        "## Evaluation"
      ]
    },
    {
      "cell_type": "markdown",
      "metadata": {
        "colab_type": "text",
        "id": "F_tOUGIxhTaL"
      },
      "source": [
        ""
      ]
    },
    {
      "cell_type": "markdown",
      "metadata": {
        "colab_type": "text",
        "id": "7_135wN0hTe8"
      },
      "source": [
        "## Conclusion"
      ]
    },
    {
      "cell_type": "markdown",
      "metadata": {
        "colab_type": "text",
        "id": "EJHpJvsvhTli"
      },
      "source": [
        ""
      ]
    },
    {
      "cell_type": "markdown",
      "metadata": {
        "colab_type": "text",
        "id": "jtcC0IahmoHv"
      },
      "source": [
        "## Ethical Considerations"
      ]
    },
    {
      "cell_type": "markdown",
      "metadata": {
        "colab_type": "text",
        "id": "6OqpS59Emva8"
      },
      "source": [
        "* Activity Recognition in the Workplace\n",
        "  * Privacy concerns\n",
        "  * Monitor \"Laziness\"\n",
        "* Insufficient Accuracy\n",
        "  * Impact of wrong results?\n",
        "* "
      ]
    },
    {
      "cell_type": "code",
      "metadata": {
        "id": "0Y4XeiVri2XH",
        "colab_type": "code",
        "colab": {}
      },
      "source": [
        ""
      ],
      "execution_count": 0,
      "outputs": []
    }
  ]
}