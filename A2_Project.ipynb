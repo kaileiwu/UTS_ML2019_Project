{
 "cells": [
  {
   "cell_type": "markdown",
   "metadata": {
    "colab_type": "text",
    "id": "view-in-github"
   },
   "source": [
    "<a href=\"https://colab.research.google.com/github/pitwegner/UTS_ML2019_Project/blob/master/A2_Project.ipynb\" target=\"_parent\"><img src=\"https://colab.research.google.com/assets/colab-badge.svg\" alt=\"Open In Colab\"/></a>"
   ]
  },
  {
   "cell_type": "code",
   "execution_count": null,
   "metadata": {
    "colab": {},
    "colab_type": "code",
    "id": "ReiUL--rysUT"
   },
   "outputs": [],
   "source": [
    "import pandas as pd\n",
    "import glob\n",
    "import numpy as np\n",
    "import math\n",
    "DATA_SOURCE = 'google'\n",
    "location_prefix = ''\n",
    "if DATA_SOURCE == 'google':\n",
    "    from google.colab import drive\n",
    "    drive.mount('/content/drive')\n",
    "    location_prefix = '/content/drive/My Drive/'\n",
    "elif DATA_SOURCE == 'github':\n",
    "    import urllib.request   \n",
    "    dl_location = '/content/'\n",
    "    filename, headers = urllib.request.urlretrieve('https://github.com/pitwegner/UTS_ML2019_Project/archive/master.zip', filename=dl_location + 'master.zip')\n",
    "    import zipfile\n",
    "    with zipfile.ZipFile(filename, 'r') as zip_ref:\n",
    "        zip_ref.extractall(dl_location)\n",
    "    location_prefix = '/content/UTS_ML2019_Project-master/'"
   ]
  },
  {
   "cell_type": "code",
   "execution_count": null,
   "metadata": {
    "colab": {},
    "colab_type": "code",
    "id": "g-RL7JyBysUi"
   },
   "outputs": [],
   "source": [
    "activities = pd.read_csv(location_prefix + \"train/activities_train.csv\") # Activity Labels for Segments and Nurse ID\n",
    "mocap = pd.DataFrame()\n",
    "print(\"Reading Mocap Data\")\n",
    "i = 0\n",
    "bar_length = 50\n",
    "files = glob.glob(location_prefix + \"train/mocap/segment*.csv\")\n",
    "for mf in files:\n",
    "    i += 1\n",
    "    progress = math.ceil(bar_length * i / len(files))\n",
    "    print(\"\\r\", \"[\" + \"=\" * progress + \" \" * (bar_length - progress) + \"] \" + \"{0:.2f}\".format(100 * i / len(files)) + '%', end=\"\")\n",
    "    mocap = mocap.append(pd.read_csv(mf).ffill().bfill().fillna(0))\n",
    "mocap = mocap.reset_index().drop(columns=['index','time_elapsed'])"
   ]
  },
  {
   "cell_type": "code",
   "execution_count": null,
   "metadata": {
    "colab": {},
    "colab_type": "code",
    "id": "eM-losmrzvIu"
   },
   "outputs": [],
   "source": [
    "mocap_normalized = (mocap-mocap.min())/(mocap.max()-mocap.min())\n",
    "mocap_normalized.segment_id = mocap.segment_id\n",
    "mocap = mocap_normalized\n",
    "activity_arr = activities.activity_id.unique()\n",
    "activity_arr.sort()"
   ]
  },
  {
   "cell_type": "code",
   "execution_count": null,
   "metadata": {
    "colab": {},
    "colab_type": "code",
    "id": "P8N1M0M0W2_K"
   },
   "outputs": [],
   "source": [
    "import torch\n",
    "from torch.autograd import Variable\n",
    "import torch.nn.functional as F\n",
    "from torch.utils import data\n",
    "import torch.optim as optim\n",
    "\n",
    "torch.manual_seed(0)\n",
    "np.random.seed(0)\n",
    "\n",
    "class Dataset(data.Dataset):\n",
    "  \n",
    "    def __init__(self, train, labels):\n",
    "        self.labels = labels\n",
    "        self.data = train\n",
    "\n",
    "    def __len__(self):\n",
    "        return len(self.data)\n",
    "\n",
    "    def __getitem__(self, index):\n",
    "        X = self.data[index].drop(columns=['segment_id']).values\n",
    "        sid = self.data[index].segment_id.unique()[0]\n",
    "        labels = self.labels[self.labels.segment_id == sid]\n",
    "        aid = labels.activity_id.values[0]\n",
    "        y = np.array([activity_arr.tolist().index(aid), sid])\n",
    "\n",
    "        return X, y\n",
    "\n",
    "dataset = Dataset(mocap, activities)\n",
    "window_length = 200"
   ]
  },
  {
   "cell_type": "code",
   "execution_count": null,
   "metadata": {},
   "outputs": [],
   "source": [
    "for a in activities.subject.unique():\n",
    "    act = activities[activities.subject == a]\n",
    "    print(a, \":\", [(i, len(act[act.activity_id == i].segment_id)) for i in np.sort(act.activity_id.unique())])"
   ]
  },
  {
   "cell_type": "code",
   "execution_count": null,
   "metadata": {
    "colab": {},
    "colab_type": "code",
    "id": "y-qq2hNXysVJ"
   },
   "outputs": [],
   "source": [
    "class SimpleCNN(torch.nn.Module):\n",
    "    \n",
    "    def __init__(self):\n",
    "        super(SimpleCNN, self).__init__()\n",
    "        \n",
    "        self.kernel_size = 3\n",
    "        self.stride = 1\n",
    "        self.padding = 1\n",
    "        self.output_channels = 24\n",
    "        self.hidden_parameters = 64\n",
    "        \n",
    "        self.output_x = int((window_length - self.kernel_size + 2 * self.padding) / self.stride) + 1\n",
    "        self.output_y = int((dataset[0:1][0].shape[1] - self.kernel_size + 2 * self.padding) / self.stride) + 1\n",
    "        \n",
    "        self.conv1 = torch.nn.Conv2d(1, self.output_channels, kernel_size=self.kernel_size, stride=self.stride, padding=self.padding)\n",
    "        self.pool = torch.nn.MaxPool2d(kernel_size=2, stride=2, padding=0)\n",
    "        self.fc1 = torch.nn.Linear(self.output_channels * int(self.output_x / 2) * int(self.output_y / 2), self.hidden_parameters)\n",
    "        self.fc2 = torch.nn.Linear(self.hidden_parameters, len(activities.activity_id.unique()))\n",
    "        \n",
    "    def forward(self, x):\n",
    "        x = F.relu(self.conv1(x))\n",
    "        x = self.pool(x)\n",
    "        x = x.view(-1, self.output_channels * int(self.output_x / 2) * int(self.output_y / 2))\n",
    "        x = F.relu(self.fc1(x))\n",
    "        x = self.fc2(x)\n",
    "        return(x)"
   ]
  },
  {
   "cell_type": "code",
   "execution_count": null,
   "metadata": {
    "colab": {},
    "colab_type": "code",
    "id": "S9yWA08P7wFg"
   },
   "outputs": [],
   "source": [
    "from torch.utils.data.sampler import Sampler    \n",
    "\n",
    "class RandomWindowSampler(Sampler):\n",
    "  \n",
    "    def __init__(self, indices):\n",
    "        self.indices = indices\n",
    "\n",
    "    def __iter__(self):\n",
    "        return (slice(self.indices[i], self.indices[i] + window_length) for i in torch.randperm(len(self.indices)))\n",
    "\n",
    "    def __len__(self):\n",
    "        return len(self.indices)\n",
    "  "
   ]
  },
  {
   "cell_type": "code",
   "execution_count": null,
   "metadata": {
    "colab": {},
    "colab_type": "code",
    "id": "KdZrZemGHkB_"
   },
   "outputs": [],
   "source": [
    "PERSON_SPLIT = True\n",
    "TEST_PERSON = 2\n",
    "VAL_PERSON = 4\n",
    "if PERSON_SPLIT:\n",
    "    indices = {}\n",
    "    for sid in dataset.data.segment_id.unique():\n",
    "        i = list(dataset.data[dataset.data.segment_id == sid].index[0:-window_length:50])\n",
    "        p = activities[activities.segment_id == sid].subject.item()\n",
    "        if p not in indices:\n",
    "            indices[p] = []\n",
    "        indices[p] += i\n",
    "    test_indices = indices.pop(TEST_PERSON)\n",
    "    val_indices = indices.pop(VAL_PERSON)\n",
    "    train_indices = [item for sublist in indices.values() for item in sublist]\n",
    "else:\n",
    "    train_indices, val_indices, test_indices = ([],[],[])\n",
    "    segments = dataset.data.segment_id.unique()\n",
    "    split = int(np.floor(0.15 * len(segments)))\n",
    "    np.random.shuffle(segments)\n",
    "    train, val, test = segments[split+split:], segments[split:split+split], segments[:split]\n",
    "    for sid in train:\n",
    "        train_indices += list(dataset.data[dataset.data.segment_id == sid].index[0:-window_length:50])\n",
    "    for sid in val:\n",
    "        val_indices += list(dataset.data[dataset.data.segment_id == sid].index[0:-window_length:50])\n",
    "    for sid in test:\n",
    "        test_indices += list(dataset.data[dataset.data.segment_id == sid].index[0:-window_length:50])\n",
    "\n",
    "train_sampler = RandomWindowSampler(train_indices)\n",
    "val_sampler = RandomWindowSampler(val_indices)\n",
    "test_sampler = RandomWindowSampler(test_indices)\n",
    "\n",
    "def get_train_loader(batch_size):\n",
    "    return torch.utils.data.DataLoader(dataset, batch_size=batch_size, sampler=train_sampler, num_workers=2)\n",
    "  \n",
    "val_loader = torch.utils.data.DataLoader(dataset, batch_size=128, sampler=val_sampler, num_workers=2)\n",
    "test_loader = torch.utils.data.DataLoader(dataset, batch_size=4, sampler=test_sampler, num_workers=2)"
   ]
  },
  {
   "cell_type": "code",
   "execution_count": null,
   "metadata": {
    "colab": {},
    "colab_type": "code",
    "id": "PZvSGvD2I5JT"
   },
   "outputs": [],
   "source": [
    "import time\n",
    "\n",
    "def trainNet(net, batch_size, n_epochs, learning_rate):\n",
    "  \n",
    "    print(\"===== HYPERPARAMETERS =====\")\n",
    "    print(\"batch_size =\", batch_size)\n",
    "    print(\"epochs =\", n_epochs)\n",
    "    print(\"learning_rate =\", learning_rate)\n",
    "    print(\"=\" * 27)\n",
    "    \n",
    "    train_loader = get_train_loader(batch_size)\n",
    "    n_batches = len(train_loader)\n",
    "    \n",
    "    loss = torch.nn.CrossEntropyLoss()\n",
    "    optimizer = optim.Adam(net.parameters(), lr=learning_rate)\n",
    "    \n",
    "    training_start_time = time.time()\n",
    "    \n",
    "    min_val_loss = math.inf\n",
    "    worse_counter = 0\n",
    "    \n",
    "    for epoch in range(n_epochs):\n",
    "        \n",
    "        running_loss = 0.0\n",
    "        total_train_loss = 0.0\n",
    "        print_every = 10\n",
    "        start_time = time.time()\n",
    "        \n",
    "        worse_counter += 1\n",
    "        \n",
    "        for i, data in enumerate(train_loader, 0):\n",
    "            inputs, labels = data\n",
    "            if inputs.shape != (32,200,87):\n",
    "                # TODO: Handle leftover batches (<32)\n",
    "                continue\n",
    "            inputs, labels = Variable(inputs.reshape((32,1,200,87))), Variable(labels)\n",
    "            \n",
    "            optimizer.zero_grad()\n",
    "            \n",
    "            #Forward pass, backward pass, optimize\n",
    "            outputs = net(inputs)\n",
    "            loss_size = loss(outputs, labels[:,0])\n",
    "            loss_size.backward()\n",
    "            optimizer.step()\n",
    "            running_loss += loss_size.data.item()\n",
    "            total_train_loss += loss_size.data.item()\n",
    "            \n",
    "            #Print every 10th batch of an epoch\n",
    "            if (i + 1) % (print_every) == 0:\n",
    "                print(\"Epoch {}, {:d}% \\t train_loss: {:.2f} took: {:.2f}s\".format(epoch+1, int(100 * (i+1) / len(train_loader)), running_loss / print_every, time.time() - start_time))\n",
    "                running_loss = 0.0\n",
    "                start_time = time.time()\n",
    "        total_val_loss = 0.0\n",
    "        for i, data in enumerate(val_loader, 0):\n",
    "            inputs, labels = data\n",
    "            if inputs.shape != (128,200,87):\n",
    "                break\n",
    "            inputs, labels = Variable(inputs.reshape((128,1,200,87))), Variable(labels)\n",
    "\n",
    "            val_outputs = net(inputs)\n",
    "            val_loss_size = loss(val_outputs, labels[:,0])\n",
    "            total_val_loss += val_loss_size.data.item()\n",
    "            \n",
    "        loss_avg = total_val_loss / len(val_loader)\n",
    "        print(\"Validation loss = {:.2f}\".format(loss_avg))\n",
    "        if loss_avg < min_val_loss:\n",
    "            min_val_loss = loss_avg\n",
    "            best_model = net\n",
    "            worse_counter = 0\n",
    "        \n",
    "        val_losses.append(loss_avg)\n",
    "        train_losses.append(total_train_loss / len(train_loader))\n",
    "        if worse_counter >= 10:\n",
    "            break\n",
    "        \n",
    "    print(\"Training finished, took {:.2f}s\".format(time.time() - training_start_time))"
   ]
  },
  {
   "cell_type": "code",
   "execution_count": null,
   "metadata": {
    "colab": {},
    "colab_type": "code",
    "id": "DCwSnqOBJerf"
   },
   "outputs": [],
   "source": [
    "CNN = SimpleCNN()\n",
    "train_losses = []\n",
    "val_losses = []\n",
    "best_model = CNN\n",
    "trainNet(CNN.double(), batch_size=32, n_epochs=150, learning_rate=0.00001)"
   ]
  },
  {
   "cell_type": "code",
   "execution_count": null,
   "metadata": {
    "colab": {},
    "colab_type": "code",
    "id": "BuiOtzV1Qh7R"
   },
   "outputs": [],
   "source": [
    "import plotly.graph_objects as go\n",
    "fig = go.Figure()\n",
    "fig.add_trace(go.Scatter(x=np.arange(len(train_losses)), y=train_losses, mode='lines', name='train_loss'))\n",
    "fig.add_trace(go.Scatter(x=np.arange(len(val_losses)), y=val_losses, mode='lines', name='val_loss'))\n",
    "fig.show()"
   ]
  },
  {
   "cell_type": "code",
   "execution_count": null,
   "metadata": {
    "colab": {},
    "colab_type": "code",
    "id": "cigZzw7XcGy-"
   },
   "outputs": [],
   "source": [
    "from scipy import stats\n",
    "\n",
    "np.set_printoptions(suppress=True)\n",
    "confusion_matrix = np.zeros((6,6))\n",
    "votes = {}\n",
    "print(\"Starting Test Run\")\n",
    "for i, data in enumerate(test_loader, 0):\n",
    "    inputs, labels = data\n",
    "    if inputs.shape != (4,200,87):\n",
    "        # TODO: Handle leftover batches (<4)\n",
    "        break\n",
    "    inputs, labels = Variable(inputs.reshape((4,1,200,87))), Variable(labels)\n",
    "    val_outputs = CNN.double()(inputs)\n",
    "    preds = val_outputs.argmax(1)\n",
    "    for s in range(len(labels)):\n",
    "        if labels[s,1].item() not in votes:\n",
    "            votes[labels[s,1].item()] = []\n",
    "        votes[labels[s,1].item()].append(preds[s].item())\n",
    "    confusion_matrix[preds, labels[:,0]] += 1\n",
    "    print(\"\\r\", \"{0:.2f}%\".format(100 * i / len(test_loader)), end=\"\")\n",
    "for sid in votes:\n",
    "    label = dataset.labels[dataset.labels.segment_id == sid].activity_id.values[0]\n",
    "    votes[sid] = [stats.mode(votes[sid])[0][0], label]\n",
    "print(\"\\n\")\n",
    "print(votes)\n",
    "print(confusion_matrix)\n",
    "print(\"{0:.2f}%\".format(100 * np.trace(confusion_matrix)/np.sum(confusion_matrix)))"
   ]
  },
  {
   "cell_type": "code",
   "execution_count": null,
   "metadata": {},
   "outputs": [],
   "source": [
    "from scipy import stats\n",
    "\n",
    "np.set_printoptions(suppress=True)\n",
    "confusion_matrix = np.zeros((6,6))\n",
    "votes = {}\n",
    "print(\"Starting Test Run\")\n",
    "for i, data in enumerate(test_loader, 0):\n",
    "    inputs, labels = data\n",
    "    if inputs.shape != (4,200,87):\n",
    "        # TODO: Handle leftover batches (<4)\n",
    "        break\n",
    "    inputs, labels = Variable(inputs.reshape((4,1,200,87))), Variable(labels)\n",
    "    val_outputs = best_model.double()(inputs)\n",
    "    preds = val_outputs.argmax(1)\n",
    "    for s in range(len(labels)):\n",
    "        if labels[s,1].item() not in votes:\n",
    "            votes[labels[s,1].item()] = []\n",
    "        votes[labels[s,1].item()].append(preds[s].item())\n",
    "    confusion_matrix[preds, labels[:,0]] += 1\n",
    "    print(\"\\r\", \"{0:.2f}%\".format(100 * i / len(test_loader)), end=\"\")\n",
    "for sid in votes:\n",
    "    label = dataset.labels[dataset.labels.segment_id == sid].activity_id.values[0]\n",
    "    votes[sid] = [stats.mode(votes[sid])[0][0], label]\n",
    "print(\"\\n\")\n",
    "print(votes)\n",
    "print(confusion_matrix)\n",
    "print(\"{0:.2f}%\".format(100 * np.trace(confusion_matrix)/np.sum(confusion_matrix)))"
   ]
  }
 ],
 "metadata": {
  "colab": {
   "include_colab_link": true,
   "name": "A2_Project.ipynb",
   "provenance": [],
   "toc_visible": true,
   "version": "0.3.2"
  },
  "kernelspec": {
   "display_name": "Python 3",
   "language": "python",
   "name": "python3"
  },
  "language_info": {
   "codemirror_mode": {
    "name": "ipython",
    "version": 3
   },
   "file_extension": ".py",
   "mimetype": "text/x-python",
   "name": "python",
   "nbconvert_exporter": "python",
   "pygments_lexer": "ipython3",
   "version": "3.7.3"
  }
 },
 "nbformat": 4,
 "nbformat_minor": 1
}
