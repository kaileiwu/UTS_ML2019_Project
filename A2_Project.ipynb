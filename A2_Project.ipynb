{
 "cells": [
  {
   "cell_type": "markdown",
   "metadata": {
    "colab_type": "text",
    "id": "view-in-github"
   },
   "source": [
    "<a href=\"https://colab.research.google.com/github/pitwegner/UTS_ML2019_Project/blob/master/A2_Project.ipynb\" target=\"_parent\"><img src=\"https://colab.research.google.com/assets/colab-badge.svg\" alt=\"Open In Colab\"/></a>"
   ]
  },
  {
   "cell_type": "code",
   "execution_count": null,
   "metadata": {
    "colab": {},
    "colab_type": "code",
    "id": "ReiUL--rysUT"
   },
   "outputs": [],
   "source": [
    "import pandas as pd\n",
    "import glob\n",
    "import numpy as np\n",
    "import math\n",
    "\n",
    "DATA_SOURCE = 'local' # can be google, github, or local\n",
    "location_prefix = 'data/' # path of data (or download location for github)\n",
    "\n",
    "if DATA_SOURCE == 'google':\n",
    "    from google.colab import drive\n",
    "    drive.mount('/content/drive')\n",
    "    location_prefix = '/content/drive/My Drive/' + location_prefix\n",
    "elif DATA_SOURCE == 'github':\n",
    "    import urllib.request   \n",
    "    dl_location = '/content/' + location_prefix\n",
    "    filename, headers = urllib.request.urlretrieve('https://github.com/pitwegner/UTS_ML2019_Project/archive/master.zip', filename=dl_location + 'master.zip')\n",
    "    import zipfile\n",
    "    with zipfile.ZipFile(filename, 'r') as zip_ref:\n",
    "        zip_ref.extractall(dl_location)\n",
    "    location_prefix = dl_location + 'UTS_ML2019_Project-master/data/'"
   ]
  },
  {
   "cell_type": "code",
   "execution_count": null,
   "metadata": {
    "colab": {},
    "colab_type": "code",
    "id": "g-RL7JyBysUi"
   },
   "outputs": [],
   "source": [
    "# Read activity labels for segments and nurse id\n",
    "activities = pd.read_csv(location_prefix + \"activities_train.csv\")\n",
    "activity_arr = activities.activity_id.unique()\n",
    "activity_arr.sort()\n",
    "\n",
    "# Read Motion Capture Data\n",
    "mocap = pd.DataFrame()\n",
    "print(\"Reading Mocap Data\")\n",
    "i = 0\n",
    "bar_length = 50\n",
    "files = glob.glob(location_prefix + \"mocap/segment*.csv\")\n",
    "for mf in files:\n",
    "    # Basic NaN value removal\n",
    "    mocap = mocap.append(pd.read_csv(mf).ffill().bfill().fillna(0))\n",
    "    i += 1\n",
    "    progress = math.ceil(bar_length * i / len(files))\n",
    "    print(\"\\r\", \"[\" + \"=\" * progress + \" \" * (bar_length - progress) + \"] \" + \"{0:.2f}\".format(100 * i / len(files)) + '%', end=\"\")\n",
    "\n",
    "# Drop time column, since constant frequency\n",
    "mocap = mocap.reset_index().drop(columns=['index','time_elapsed'])"
   ]
  },
  {
   "cell_type": "code",
   "execution_count": null,
   "metadata": {},
   "outputs": [],
   "source": [
    "#num_point = int((len(mocap.columns)-1)/3) #29 points\n",
    "#num_sample = len(mocap) #1577775 samples\n",
    "\n",
    "#mocap_nu = np.array(mocap)\n",
    "#mocap_nu_id = mocap_nu[:, -1]\n",
    "#mocap_nu_ft = mocap_nu[:, :-1]\n",
    "#mocap_nu_ft = mocap_nu_ft.T\n",
    "#mocap_nu_ft = mocap_nu_ft.reshape(num_point, 3, num_sample)\n",
    "\n",
    "#total_dis = int(num_point * (num_point - 1) / 2) #406 distances\n",
    "#mocap_dis = np.zeros((total_dis, num_sample))\n",
    "#print('num_point:', num_point, 'total_dis:', total_dis,'num_sample:', num_sample)"
   ]
  },
  {
   "cell_type": "code",
   "execution_count": null,
   "metadata": {},
   "outputs": [],
   "source": [
    "#m = 0\n",
    "#for l in range(0, num_point):\n",
    "#    print('i:', l)                     \n",
    "#    a1 = mocap_nu_ft[l, :, :]\n",
    "#    for k in range(l + 1, num_point):\n",
    "#        a2 = mocap_nu_ft[k, :, :]\n",
    "#        mocap_dis[m, :] = np.sqrt(np.sum((a1 - a2)**2, axis=0, keepdims=True))\n",
    "#        m += 1"
   ]
  },
  {
   "cell_type": "code",
   "execution_count": null,
   "metadata": {},
   "outputs": [],
   "source": [
    "#mocap_distance = np.zeros((num_sample, total_dis + 1)) #shape(1577775, 407)\n",
    "#mocap_dist = mocap_dis.T #shape(1577775, 406)\n",
    "#mocap_distance[:, :-1] = mocap_dist\n",
    "#mocap_distance[:, -1] = mocap_nu_id\n",
    "#mocap_distance = pd.DataFrame(mocap_distance)"
   ]
  },
  {
   "cell_type": "code",
   "execution_count": null,
   "metadata": {
    "colab": {},
    "colab_type": "code",
    "id": "eM-losmrzvIu"
   },
   "outputs": [],
   "source": [
    "# Min-max normalization\n",
    "mocap_normalized = (mocap-mocap.min())/(mocap.max()-mocap.min())\n",
    "mocap_normalized.segment_id = mocap.segment_id\n",
    "mocap = mocap_normalized"
   ]
  },
  {
   "cell_type": "code",
   "execution_count": null,
   "metadata": {
    "colab": {},
    "colab_type": "code",
    "id": "P8N1M0M0W2_K"
   },
   "outputs": [],
   "source": [
    "import torch\n",
    "from torch.autograd import Variable\n",
    "import torch.nn.functional as F\n",
    "from torch.utils import data\n",
    "import torch.optim as optim\n",
    "\n",
    "torch.manual_seed(0)\n",
    "np.random.seed(0)\n",
    "\n",
    "class Dataset(data.Dataset):\n",
    "  \n",
    "    def __init__(self, train, labels):\n",
    "        self.labels = labels\n",
    "        self.data = train\n",
    "\n",
    "    def __len__(self):\n",
    "        return len(self.data)\n",
    "\n",
    "    def __getitem__(self, index):\n",
    "        X = self.data[index].drop(columns=['segment_id']).values\n",
    "        sid = self.data[index].segment_id.unique()[0]\n",
    "        labels = self.labels[self.labels.segment_id == sid]\n",
    "        aid = labels.activity_id.values[0]\n",
    "        y = np.array([activity_arr.tolist().index(aid), sid])\n",
    "\n",
    "        return X, y\n",
    "\n",
    "dataset = Dataset(mocap, activities)"
   ]
  },
  {
   "cell_type": "code",
   "execution_count": null,
   "metadata": {},
   "outputs": [],
   "source": [
    "print(\"Person\", \":\", \"[(activity_id, count), ...]\")\n",
    "for a in activities.subject.unique():\n",
    "    act = activities[activities.subject == a]\n",
    "    print(a, \":\", [(i, len(act[act.activity_id == i].segment_id)) for i in np.sort(act.activity_id.unique())])"
   ]
  },
  {
   "cell_type": "code",
   "execution_count": null,
   "metadata": {
    "colab": {},
    "colab_type": "code",
    "id": "S9yWA08P7wFg"
   },
   "outputs": [],
   "source": [
    "from torch.utils.data.sampler import Sampler    \n",
    "\n",
    "window_length = 200 # = 2*f\n",
    "\n",
    "# Sampler that iterates a random permutation of start indices and selects window\n",
    "class RandomWindowSampler(Sampler):\n",
    "  \n",
    "    def __init__(self, indices):\n",
    "        self.indices = indices\n",
    "\n",
    "    def __iter__(self):\n",
    "        return (slice(self.indices[i], self.indices[i] + window_length) for i in torch.randperm(len(self.indices)))\n",
    "\n",
    "    def __len__(self):\n",
    "        return len(self.indices)\n",
    "  "
   ]
  },
  {
   "cell_type": "code",
   "execution_count": null,
   "metadata": {
    "colab": {},
    "colab_type": "code",
    "id": "KdZrZemGHkB_"
   },
   "outputs": [],
   "source": [
    "# Split data either randomly by segments or by person (as official test set introduces a new person)\n",
    "PERSON_SPLIT = False\n",
    "TEST_PERSON = 2\n",
    "VAL_PERSON = 4\n",
    "if PERSON_SPLIT:\n",
    "    indices = {}\n",
    "    for sid in dataset.data.segment_id.unique():\n",
    "        i = list(dataset.data[dataset.data.segment_id == sid].index[0:-window_length:50])\n",
    "        p = activities[activities.segment_id == sid].subject.item()\n",
    "        if p not in indices:\n",
    "            indices[p] = []\n",
    "        indices[p] += i\n",
    "    test_indices = indices.pop(TEST_PERSON)\n",
    "    val_indices = indices.pop(VAL_PERSON)\n",
    "    train_indices = [item for sublist in indices.values() for item in sublist]\n",
    "else:\n",
    "    train_indices, val_indices, test_indices = ([],[],[])\n",
    "    segments = dataset.data.segment_id.unique()\n",
    "    split = int(np.floor(0.15 * len(segments))) # 15%\n",
    "    np.random.shuffle(segments)\n",
    "    # 70% training, 15% validation, 15% testing\n",
    "    train, val, test = segments[split+split:], segments[split:split+split], segments[:split]\n",
    "    for sid in train:\n",
    "        train_indices += list(dataset.data[dataset.data.segment_id == sid].index[0:-window_length:50])\n",
    "    for sid in val:\n",
    "        val_indices += list(dataset.data[dataset.data.segment_id == sid].index[0:-window_length:50])\n",
    "    for sid in test:\n",
    "        test_indices += list(dataset.data[dataset.data.segment_id == sid].index[0:-window_length:50])\n",
    "\n",
    "train_sampler = RandomWindowSampler(train_indices)\n",
    "val_sampler = RandomWindowSampler(val_indices)\n",
    "test_sampler = RandomWindowSampler(test_indices)\n",
    "\n",
    "# Create data loaders to parallelize batch training to multiple cores\n",
    "def get_train_loader(batch_size):\n",
    "    return torch.utils.data.DataLoader(dataset, batch_size=batch_size, sampler=train_sampler, num_workers=3)\n",
    "val_loader = torch.utils.data.DataLoader(dataset, batch_size=128, sampler=val_sampler, num_workers=3)\n",
    "test_loader = torch.utils.data.DataLoader(dataset, batch_size=4, sampler=test_sampler, num_workers=3)"
   ]
  },
  {
   "cell_type": "code",
   "execution_count": null,
   "metadata": {
    "colab": {},
    "colab_type": "code",
    "id": "y-qq2hNXysVJ"
   },
   "outputs": [],
   "source": [
    "class SimpleCNN(torch.nn.Module):\n",
    "    \n",
    "    def __init__(self):\n",
    "        super(SimpleCNN, self).__init__()\n",
    "        \n",
    "        self.kernel_size = 3\n",
    "        self.stride = 1\n",
    "        self.padding = 1\n",
    "        self.output_channels = 24\n",
    "        self.hidden_parameters = 64\n",
    "        \n",
    "        # Calculate output size after convolution\n",
    "        self.output_x = int((window_length            - self.kernel_size + 2 * self.padding) / self.stride) + 1\n",
    "        self.output_y = int((dataset[0:1][0].shape[1] - self.kernel_size + 2 * self.padding) / self.stride) + 1\n",
    "        \n",
    "        self.conv1 = torch.nn.Conv2d(1, self.output_channels, kernel_size=self.kernel_size, stride=self.stride, padding=self.padding)\n",
    "        self.pool = torch.nn.MaxPool2d(kernel_size=2, stride=2, padding=0)\n",
    "        self.fc1 = torch.nn.Linear(self.output_channels * int(self.output_x / 2) * int(self.output_y / 2), self.hidden_parameters)\n",
    "        self.fc2 = torch.nn.Linear(self.hidden_parameters, len(activities.activity_id.unique()))\n",
    "        \n",
    "    def forward(self, x):\n",
    "        x = F.relu(self.conv1(x))\n",
    "        x = self.pool(x)\n",
    "        x = x.view(-1, self.output_channels * int(self.output_x / 2) * int(self.output_y / 2))\n",
    "        x = F.relu(self.fc1(x))\n",
    "        x = self.fc2(x)\n",
    "        return(x)"
   ]
  },
  {
   "cell_type": "code",
   "execution_count": null,
   "metadata": {
    "colab": {},
    "colab_type": "code",
    "id": "PZvSGvD2I5JT"
   },
   "outputs": [],
   "source": [
    "import time\n",
    "\n",
    "def trainNet(net, batch_size, n_epochs, learning_rate):\n",
    "    print(\"Training started\")\n",
    "    train_loader = get_train_loader(batch_size)\n",
    "    n_batches = len(train_loader)\n",
    "    \n",
    "    # Select loss function and optimizer\n",
    "    loss = torch.nn.CrossEntropyLoss()\n",
    "    optimizer = optim.Adam(net.parameters(), lr=learning_rate)\n",
    "    \n",
    "    min_val_loss = math.inf\n",
    "    worse_counter = 0\n",
    "    \n",
    "    training_start_time = time.time()\n",
    "    \n",
    "    for epoch in range(n_epochs):\n",
    "        \n",
    "        running_loss = 0.0\n",
    "        total_train_loss = 0.0\n",
    "        print_every = 25\n",
    "        start_time = time.time()\n",
    "        \n",
    "        worse_counter += 1\n",
    "        \n",
    "        for i, data in enumerate(train_loader, 0):\n",
    "            inputs, labels = data\n",
    "            # reshape data since we only have 1 channel\n",
    "            inputs = inputs.reshape((inputs.shape[0], 1, inputs.shape[1], inputs.shape[2]))\n",
    "            inputs, labels = Variable(inputs), Variable(labels)\n",
    "            \n",
    "            # Forward pass, backward pass, optimize\n",
    "            optimizer.zero_grad()\n",
    "            outputs = net(inputs)\n",
    "            loss_size = loss(outputs, labels[:,0])\n",
    "            loss_size.backward()\n",
    "            optimizer.step()\n",
    "            \n",
    "            # Aggregate losses for plotting and printing\n",
    "            running_loss += loss_size.data.item()\n",
    "            total_train_loss += loss_size.data.item()\n",
    "            \n",
    "            # Print average running loss every 25th batch of an epoch\n",
    "            if (i + 1) % print_every == 0:\n",
    "                print(\"Epoch {}, {:d}% \\t train_loss: {:.2f} took: {:.2f}s\".format(epoch + 1, int(100 * (i + 1) / n_batches), running_loss / print_every, time.time() - start_time))\n",
    "                running_loss = 0.0\n",
    "                start_time = time.time()\n",
    "        \n",
    "        # Run validation pass at end of epoch\n",
    "        total_val_loss = 0.0\n",
    "        for i, data in enumerate(val_loader, 0):\n",
    "            inputs, labels = data\n",
    "            inputs = inputs.reshape((inputs.shape[0], 1, inputs.shape[1], inputs.shape[2]))\n",
    "            inputs, labels = Variable(inputs), Variable(labels)\n",
    "\n",
    "            val_outputs = net(inputs)\n",
    "            val_loss_size = loss(val_outputs, labels[:,0])\n",
    "            total_val_loss += val_loss_size.data.item()\n",
    "            \n",
    "        loss_avg = total_val_loss / len(val_loader)\n",
    "        print(\"Validation loss = {:.2f}{}\".format(loss_avg, ' (worse, {})'.format(worse_counter) if loss_avg >= min_val_loss else ' (better)'))\n",
    "        if loss_avg < min_val_loss:\n",
    "            min_val_loss = loss_avg\n",
    "            worse_counter = 0\n",
    "            \n",
    "            # Save best model for testing\n",
    "            best_model = SimpleCNN().load_state_dict(net.state_dict())\n",
    "        \n",
    "        # Append average loss for plotting\n",
    "        val_losses.append(loss_avg)\n",
    "        train_losses.append(total_train_loss / n_batches)\n",
    "        \n",
    "        # Stop training if we haven't improved for 10 epochs\n",
    "        if worse_counter >= 10:\n",
    "            break\n",
    "        \n",
    "    print(\"Training finished, took {}\".format(time.strftime('%H:%M:%S', time.time() - training_start_time)))"
   ]
  },
  {
   "cell_type": "code",
   "execution_count": null,
   "metadata": {
    "colab": {},
    "colab_type": "code",
    "id": "DCwSnqOBJerf"
   },
   "outputs": [],
   "source": [
    "CNN = SimpleCNN()\n",
    "train_losses = []\n",
    "val_losses = []\n",
    "best_model = CNN\n",
    "trainNet(CNN.double(), batch_size=32, n_epochs=150, learning_rate=0.000001)"
   ]
  },
  {
   "cell_type": "code",
   "execution_count": null,
   "metadata": {
    "colab": {},
    "colab_type": "code",
    "id": "BuiOtzV1Qh7R"
   },
   "outputs": [],
   "source": [
    "# Loss visualization\n",
    "import plotly.graph_objects as go\n",
    "fig = go.Figure()\n",
    "fig.add_trace(go.Scatter(x=np.arange(len(train_losses)), y=train_losses, mode='lines', name='train_loss'))\n",
    "fig.add_trace(go.Scatter(x=np.arange(len(val_losses)), y=val_losses, mode='lines', name='val_loss'))\n",
    "fig.show()"
   ]
  },
  {
   "cell_type": "code",
   "execution_count": null,
   "metadata": {},
   "outputs": [],
   "source": [
    "from scipy import stats\n",
    "\n",
    "np.set_printoptions(suppress=True)\n",
    "confusion_matrix = np.zeros((6,6))\n",
    "votes = {}\n",
    "print(\"Starting Test Run\")\n",
    "\n",
    "for i, data in enumerate(test_loader, 0):\n",
    "    inputs, labels = data\n",
    "    inputs = inputs.reshape((inputs.shape[0], 1, inputs.shape[1], inputs.shape[2]))\n",
    "    inputs, labels = Variable(inputs), Variable(labels)\n",
    "    \n",
    "    val_outputs = best_model.double()(inputs)\n",
    "    predictions = val_outputs.argmax(1)\n",
    "    \n",
    "    # Collect votes\n",
    "    for s in range(len(labels)):\n",
    "        segment = labels[s,1].item()\n",
    "        if segment not in votes:\n",
    "            votes[segment] = []\n",
    "        votes[segment].append(predictions[s].item())\n",
    "    \n",
    "    # Compare test vs. label\n",
    "    confusion_matrix[predictions, labels[:,0]] += 1\n",
    "    print(\"\\r\", \"{0:.2f}%\".format(100 * i / len(test_loader)), end=\"\")\n",
    "\n",
    "# Select prediction as vote majority\n",
    "correct_votes = 0\n",
    "for sid in votes:\n",
    "    label = dataset.labels[dataset.labels.segment_id == sid].activity_id.values[0]\n",
    "    votes[sid] = [activity_arr[stats.mode(votes[sid])[0][0]], label]\n",
    "    correct_votes += int(votes[sid][0] == votes[sid][1])\n",
    "\n",
    "print(\"\\r\", \"Confusion matrix for individual windows:\")\n",
    "print(confusion_matrix)\n",
    "print(\"Accuracy: {0:.2f}%\".format(100 * np.trace(confusion_matrix)/np.sum(confusion_matrix)))\n",
    "print(\"\\r\", \"Vote prediction for entire segments:\")\n",
    "print(votes)\n",
    "print(\"Accuracy: {0:.2f}%\".format(100 * correct_votes/len(votes)))"
   ]
  },
  {
   "cell_type": "code",
   "execution_count": null,
   "metadata": {},
   "outputs": [],
   "source": []
  },
  {
   "cell_type": "code",
   "execution_count": null,
   "metadata": {},
   "outputs": [],
   "source": []
  }
 ],
 "metadata": {
  "colab": {
   "include_colab_link": true,
   "name": "A2_Project.ipynb",
   "provenance": [],
   "toc_visible": true,
   "version": "0.3.2"
  },
  "kernelspec": {
   "display_name": "Python 3",
   "language": "python",
   "name": "python3"
  },
  "language_info": {
   "codemirror_mode": {
    "name": "ipython",
    "version": 3
   },
   "file_extension": ".py",
   "mimetype": "text/x-python",
   "name": "python",
   "nbconvert_exporter": "python",
   "pygments_lexer": "ipython3",
   "version": "3.7.3"
  }
 },
 "nbformat": 4,
 "nbformat_minor": 1
}
